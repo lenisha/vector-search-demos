{
 "cells": [
  {
   "cell_type": "markdown",
   "metadata": {},
   "source": [
    "### Setup"
   ]
  },
  {
   "cell_type": "code",
   "execution_count": 1,
   "metadata": {},
   "outputs": [],
   "source": [
    "import os\n",
    "\n",
    "import azure.identity\n",
    "import dotenv\n",
    "import openai\n",
    "from azure.core.credentials import AzureKeyCredential\n",
    "from azure.search.documents import SearchClient\n",
    "from azure.search.documents.models import VectorizedQuery\n",
    "\n",
    "dotenv.load_dotenv()\n",
    "\n",
    "\n",
    "\n",
    "# Initialize Azure OpenAI client\n",
    "AZURE_OPENAI_SERVICE = os.getenv(\"AZURE_OPENAI_SERVICE\")\n",
    "AZURE_OPENAI_ADA_DEPLOYMENT = os.getenv(\"AZURE_OPENAI_ADA_DEPLOYMENT\")\n",
    "AZURE_OPENAI_SERVICE_KEY = os.getenv(\"AZURE_OPENAI_SERVICE_KEY\")\n",
    "AZURE_SEARCH_SERVICE_KEY = os.getenv(\"AZURE_SEARCH_SERVICE_KEY\")\n",
    "\n",
    "azure_search_credential = AzureKeyCredential(AZURE_SEARCH_SERVICE_KEY)\n",
    "\n",
    "openai_client = openai.AzureOpenAI(\n",
    "    api_version=\"2023-07-01-preview\",\n",
    "    api_key=AZURE_OPENAI_SERVICE_KEY,\n",
    "    azure_endpoint=f\"https://{AZURE_OPENAI_SERVICE}.openai.azure.com\")\n",
    "\n",
    "def get_embedding(text):\n",
    "    get_embeddings_response = openai_client.embeddings.create(model=AZURE_OPENAI_ADA_DEPLOYMENT, input=text)\n",
    "    return get_embeddings_response.data[0].embedding\n",
    "\n",
    "# Initialize Azure search client\n",
    "AZURE_SEARCH_SERVICE = os.getenv(\"AZURE_SEARCH_SERVICE\")\n",
    "AZURE_SEARCH_ENDPOINT = f\"https://{AZURE_SEARCH_SERVICE}.search.windows.net\"\n",
    "\n",
    "AZURE_SEARCH_FULL_INDEX = \"vector-1715911082937\"\n",
    "search_client = SearchClient(AZURE_SEARCH_ENDPOINT, AZURE_SEARCH_FULL_INDEX, credential=azure_search_credential)\n"
   ]
  },
  {
   "cell_type": "markdown",
   "metadata": {},
   "source": [
    "#### Vector search is not always optimal\n",
    "\n",
    "For example, consider searches for exact strings."
   ]
  },
  {
   "cell_type": "code",
   "execution_count": 2,
   "metadata": {},
   "outputs": [
    {
     "name": "stdout",
     "output_type": "stream",
     "text": [
      "Score: 0.81094\tMatching text: Not found\n",
      "Score: 0.80699\tMatching text: Not found\n",
      "Score: 0.80669\tMatching text: Not found\n"
     ]
    }
   ],
   "source": [
    "search_query = \"$45.00\"\n",
    "search_vector = get_embedding(search_query)\n",
    "r = search_client.search(None, top=3, vector_queries=[\n",
    "    VectorizedQuery(vector=search_vector,k_nearest_neighbors=50, fields=\"vector\")])\n",
    "\n",
    "for doc in r:\n",
    "    found_content = \"Not found\"\n",
    "    if search_query in doc['chunk']:\n",
    "        found_content = doc['chunk'][doc['chunk'].find(search_query):].replace(\"\\n\", \" \")\n",
    "    print(f\"Score: {doc['@search.score']:.5f}\\tMatching text: {found_content}\")"
   ]
  },
  {
   "cell_type": "markdown",
   "metadata": {},
   "source": [
    "Compare to a text search for same query:"
   ]
  },
  {
   "cell_type": "code",
   "execution_count": 3,
   "metadata": {},
   "outputs": [
    {
     "name": "stdout",
     "output_type": "stream",
     "text": [
      "Score: 2.31820\tMatching text: $45.00 $55.00 Employee +1 $65.00 $71.00 Employee +2 or $78.00 $89.00 more\n"
     ]
    }
   ],
   "source": [
    "r = search_client.search(search_query, top=3)\n",
    "for doc in r:\n",
    "    found_content = \"Not found\"\n",
    "    if search_query in doc['chunk']:\n",
    "        found_content = doc['chunk'][doc['chunk'].find(search_query):].replace(\"\\n\", \" \")\n",
    "    print(f\"Score: {doc['@search.score']:.5f}\\tMatching text: {found_content}\")"
   ]
  },
  {
   "cell_type": "markdown",
   "metadata": {},
   "source": [
    "#### Hybrid retrieval\n",
    "\n",
    "Uses RRF to combine vector and text results."
   ]
  },
  {
   "cell_type": "code",
   "execution_count": 4,
   "metadata": {},
   "outputs": [
    {
     "name": "stdout",
     "output_type": "stream",
     "text": [
      "Score: 0.03116\tMatching text: $45.00 $55.00 Employee +1 $65.00 $71.00 Employee +2 or $78.00 $89.00 more\n",
      "Score: 0.01667\tMatching text: Not found\n",
      "Score: 0.01639\tMatching text: Not found\n",
      "Score: 0.01613\tMatching text: Not found\n",
      "Score: 0.01587\tMatching text: Not found\n",
      "Score: 0.01562\tMatching text: Not found\n",
      "Score: 0.01538\tMatching text: Not found\n",
      "Score: 0.01515\tMatching text: Not found\n",
      "Score: 0.01493\tMatching text: Not found\n",
      "Score: 0.01471\tMatching text: Not found\n"
     ]
    }
   ],
   "source": [
    "search_vector = get_embedding(search_query)\n",
    "r = search_client.search(search_query, top=15, vector_queries=[\n",
    "    VectorizedQuery(vector=search_vector, k_nearest_neighbors=10, fields=\"vector\")])\n",
    "\n",
    "for doc in r:\n",
    "    found_content = \"Not found\"\n",
    "    if search_query in doc['chunk']:\n",
    "        found_content = doc['chunk'][doc['chunk'].find(search_query):].replace(\"\\n\", \" \")\n",
    "    print(f\"Score: {doc['@search.score']:.5f}\\tMatching text: {found_content}\")"
   ]
  },
  {
   "cell_type": "markdown",
   "metadata": {},
   "source": [
    "#### Hybrid ranking is not always optimal"
   ]
  },
  {
   "cell_type": "code",
   "execution_count": 5,
   "metadata": {},
   "outputs": [
    {
     "name": "stdout",
     "output_type": "stream",
     "text": [
      "Score: 0.03089\t\tContent: in a Human Resources role.   • Excellent written and verbal communication skills.   • Demonstrated ability to lead and manage change.   • Proficiency with Microsoft Office Suite.   • Knowledge of applicable labor laws and regulations.   • Ability to \n",
      "Score: 0.03080\t\tContent: treatment of dental injuries,   such as root canals, crowns, fillings, extractions, and periodontal services. This coverage   also includes dental anesthesia used during a dental procedure, such as local anesthesia,   sedation, and general anesthesia\n",
      "Score: 0.02871\t\tContent: Yoga and Pilates classes   • Fitness equipment purchases   • Sports team fees   • Health retreats and spas   • Outdoor adventure activities (such as rock climbing, hiking, and kayaking)   • Group fitness classes (such as dance, martial arts, and cycl\n",
      "Score: 0.02814\t\tContent: product life-cycle management processes.   • Monitor and analyze industry trends to identify opportunities for new products.   • Develop product marketing plans and go-to-market strategies.   • Research customer needs and develop customer-centric pro\n",
      "Score: 0.02782\t\tContent: such as nausea, vomiting, and dizziness. Therefore, it is     important to make sure you are informed about the potential risks associated with any   anesthesia that may be used during a dental procedure.    To ensure that you are getting the best ca\n"
     ]
    }
   ],
   "source": [
    "search_query = \"learning about underwater activities\"\n",
    "search_vector = get_embedding(search_query)\n",
    "r = search_client.search(search_query, top=5, vector_queries=[\n",
    "    VectorizedQuery(vector=search_vector, k_nearest_neighbors=10, fields=\"vector\")])\n",
    "for doc in r:\n",
    "    content = doc[\"chunk\"].replace(\"\\n\", \" \")[:250]\n",
    "    print(f\"Score: {doc['@search.score']:.5f}\\t\\tContent: {content}\")"
   ]
  },
  {
   "cell_type": "markdown",
   "metadata": {},
   "source": [
    "#### Hybrid + semantic reranking 🎉"
   ]
  },
  {
   "cell_type": "code",
   "execution_count": 6,
   "metadata": {},
   "outputs": [
    {
     "name": "stdout",
     "output_type": "stream",
     "text": [
      "Score: 0.02871\tReranker: 2.05587\tContent: Yoga and Pilates classes   • Fitness equipment purchases   • Sports team fees   • Health retreats and spas   • Outdoor adventure activities (such as rock climbing, hiking, and kayaking)   • Group fitness classes (such as dance, martial arts, and cycling)   • Virtual fitness programs (such as online yoga and workout classes)   In addition to the wide range of fitness activities covered by PerksPlus, the program also covers a variety   of lessons and experiences that promote health and wellness. Some of the lessons covered under   PerksPlus inclu\n",
      "Score: 0.02546\tReranker: 0.92402\tContent: - Lead the design of Contoso’s overall marketing efforts   - Monitor competitive landscape, consumer trends, and industry best practices   - Manage and develop marketing team   - Ensure all marketing activities are in line with budget      Qualifications:   - Bachelor’s degree in marketing, communications, or related field   - 5+ years of experience in marketing, communications, or related field   - Proven track record of developing and executing comprehensive marketing strategies   - Excellent understanding of digital, print, and broadcast med\n",
      "Score: 0.01389\tReranker: 0.85662\tContent: We strive to identify and assess potential   safety hazards in the workplace and take the necessary steps to reduce or eliminate them.      • Training – We provide our employees with safety training to ensure that they are aware of   safety procedures and protocols.      • Personal Protective Equipment (PPE) – We provide our employees with the necessary PPE   to ensure their safety.      • Emergency Preparedness – We have established procedures and protocols in the event of   an emergency.      • Reporting – We encourage our employees to report\n",
      "Score: 0.03095\tReranker: 0.82598\tContent: PerksPlus Health and Wellness   Reimbursement Program for   Contoso Electronics Employees                     Contoso 3 Electronics     This document contains information generated using a language model (Azure OpenAI). The information   contained in this document is only for demonstration purposes and does not reflect the opinions or   beliefs of Microsoft. Microsoft makes no representations or warranties of any kind, express or implied,   about the completeness, accuracy, reliability, suitability or availability with respect to the informatio\n",
      "Score: 0.01639\tReranker: 0.80760\tContent: to help employees develop and grow in their   roles.      Employees will receive a written summary of their performance review which will be   discussed during the review session. This written summary will include a rating of the   employee’s performance, feedback, and goals and objectives for the upcoming year.      We understand that performance reviews can be a stressful process. We are committed to   making sure that all employees feel supported and empowered during the process. We   encourage all employees to reach out to their managers wi\n"
     ]
    }
   ],
   "source": [
    "search_query = \"learning about underwater activities\"\n",
    "search_vector = get_embedding(search_query)\n",
    "r = search_client.search(\n",
    "        search_query,\n",
    "        top=5, \n",
    "        vector_queries=[\n",
    "                VectorizedQuery(vector=search_vector, k_nearest_neighbors=50, fields=\"vector\")],\n",
    "        query_type=\"semantic\",\n",
    "        semantic_configuration_name=\"vector-1715911082937-semantic-configuration\")\n",
    "\n",
    "for doc in r:\n",
    "    content = doc[\"chunk\"].replace(\"\\n\", \" \")[:550]\n",
    "    print(f\"Score: {doc['@search.score']:.5f}\\tReranker: {doc['@search.reranker_score']:.5f}\\tContent: {content}\")"
   ]
  },
  {
   "cell_type": "markdown",
   "metadata": {},
   "source": [
    "#### Hybrid + semantic reranking + Integrated 🎉"
   ]
  },
  {
   "cell_type": "code",
   "execution_count": 7,
   "metadata": {},
   "outputs": [
    {
     "name": "stdout",
     "output_type": "stream",
     "text": [
      "Score: 0.02871\tReranker: 2.05587\tContent: Yoga and Pilates classes   • Fitness equipment purchases   • Sports team fees   • Health retreats and spas   • Outdoor adventure activities (such as rock climbing, hiking, and kayaking)   • Group fitness classes (such as dance, martial arts, and cycling)   • Virtual fitness programs (such as online yoga and workout classes)   In addition to the wide range of fitness activities covered by PerksPlus, the program also covers a variety   of lessons and experiences that promote health and wellness. Some of the lessons covered under   PerksPlus inclu\n",
      "Score: 0.01075\tReranker: 0.92402\tContent: - Lead the design of Contoso’s overall marketing efforts   - Monitor competitive landscape, consumer trends, and industry best practices   - Manage and develop marketing team   - Ensure all marketing activities are in line with budget      Qualifications:   - Bachelor’s degree in marketing, communications, or related field   - 5+ years of experience in marketing, communications, or related field   - Proven track record of developing and executing comprehensive marketing strategies   - Excellent understanding of digital, print, and broadcast med\n",
      "Score: 0.01667\tReranker: 0.82598\tContent: PerksPlus Health and Wellness   Reimbursement Program for   Contoso Electronics Employees                     Contoso 3 Electronics     This document contains information generated using a language model (Azure OpenAI). The information   contained in this document is only for demonstration purposes and does not reflect the opinions or   beliefs of Microsoft. Microsoft makes no representations or warranties of any kind, express or implied,   about the completeness, accuracy, reliability, suitability or availability with respect to the informatio\n",
      "Score: 0.01639\tReranker: 0.80760\tContent: to help employees develop and grow in their   roles.      Employees will receive a written summary of their performance review which will be   discussed during the review session. This written summary will include a rating of the   employee’s performance, feedback, and goals and objectives for the upcoming year.      We understand that performance reviews can be a stressful process. We are committed to   making sure that all employees feel supported and empowered during the process. We   encourage all employees to reach out to their managers wi\n",
      "Score: 0.01408\tReranker: 0.64445\tContent: and driving the product roadmap.       Responsibilities:   • Develop a comprehensive research and development strategy in line with the company’s   overall objectives.   • Oversee and direct all research and development activities.   • Manage the research and development budget effectively.   • Continuously monitor the progress of projects and initiatives.   • Lead and motivate research and development teams.   • Collaborate with other departments to ensure successful product launches and   implementations.   • Analyze market trends and custome\n"
     ]
    }
   ],
   "source": [
    "from azure.search.documents.models import VectorizableTextQuery\n",
    "\n",
    "search_query = \"learning about underwater activities\"\n",
    "\n",
    "r = search_client.search(\n",
    "        search_query,\n",
    "        top=5, \n",
    "        vector_queries=[\n",
    "                VectorizableTextQuery(text=search_query, k_nearest_neighbors=3, fields=\"vector\", exhaustive=True)],\n",
    "        query_type=\"semantic\",\n",
    "        semantic_configuration_name=\"vector-1715911082937-semantic-configuration\")\n",
    "\n",
    "for doc in r:\n",
    "    content = doc[\"chunk\"].replace(\"\\n\", \" \")[:550]\n",
    "    print(f\"Score: {doc['@search.score']:.5f}\\tReranker: {doc['@search.reranker_score']:.5f}\\tContent: {content}\")"
   ]
  }
 ],
 "metadata": {
  "kernelspec": {
   "display_name": "Python 3",
   "language": "python",
   "name": "python3"
  },
  "language_info": {
   "codemirror_mode": {
    "name": "ipython",
    "version": 3
   },
   "file_extension": ".py",
   "mimetype": "text/x-python",
   "name": "python",
   "nbconvert_exporter": "python",
   "pygments_lexer": "ipython3",
   "version": "3.11.9"
  },
  "orig_nbformat": 4
 },
 "nbformat": 4,
 "nbformat_minor": 2
}
