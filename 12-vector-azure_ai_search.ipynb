{
 "cells": [
  {
   "cell_type": "markdown",
   "metadata": {},
   "source": [
    "### Setup"
   ]
  },
  {
   "cell_type": "code",
   "execution_count": null,
   "metadata": {},
   "outputs": [],
   "source": [
    "import os\n",
    "\n",
    "import azure.identity\n",
    "import dotenv\n",
    "import openai\n",
    "from azure.core.credentials import AzureKeyCredential\n",
    "from azure.search.documents import SearchClient\n",
    "from azure.search.documents.indexes import SearchIndexClient\n",
    "from azure.search.documents.indexes.models import (\n",
    "    HnswAlgorithmConfiguration,\n",
    "    HnswParameters,\n",
    "    SearchField,\n",
    "    SearchFieldDataType,\n",
    "    SearchIndex,\n",
    "    SimpleField,\n",
    "    VectorSearch,\n",
    "    VectorSearchAlgorithmKind,\n",
    "    VectorSearchProfile,\n",
    ")\n",
    "from azure.search.documents.models import VectorizedQuery\n",
    "\n",
    "dotenv.load_dotenv()\n",
    "\n",
    "# Initialize Azure search variables\n",
    "AZURE_SEARCH_SERVICE = os.getenv(\"AZURE_SEARCH_SERVICE\")\n",
    "AZURE_SEARCH_ENDPOINT = f\"https://{AZURE_SEARCH_SERVICE}.search.windows.net\"\n",
    "AZURE_SEARCH_SERVICE_KEY = os.getenv(\"AZURE_SEARCH_SERVICE_KEY\")\n",
    "AZURE_SEARCH_FULL_INDEX = \"vector-index\"  ## REPLACE with index name\n",
    "\n",
    "# Set up OpenAI client based on environment variables\n",
    "dotenv.load_dotenv()\n",
    "AZURE_OPENAI_SERVICE = os.getenv(\"AZURE_OPENAI_SERVICE\")\n",
    "AZURE_OPENAI_ADA_DEPLOYMENT = os.getenv(\"AZURE_OPENAI_ADA_DEPLOYMENT\")\n",
    "AZURE_OPENAI_SERVICE_KEY = os.getenv(\"AZURE_OPENAI_SERVICE_KEY\")\n",
    "\n",
    "azure_credential = azure.identity.DefaultAzureCredential()\n",
    "azure_search_credential = AzureKeyCredential(AZURE_SEARCH_SERVICE_KEY)\n",
    "\n",
    "token_provider = azure.identity.get_bearer_token_provider(azure_credential, \"https://cognitiveservices.azure.com/.default\")\n",
    "print(azure_credential.get_token(\"https://cognitiveservices.azure.com/.default\"))\n",
    "\n",
    "openai_client = openai.AzureOpenAI(\n",
    "    api_version=\"2023-07-01-preview\",\n",
    "    azure_endpoint=f\"https://{AZURE_OPENAI_SERVICE}.openai.azure.com\",\n",
    "    api_key=AZURE_OPENAI_SERVICE_KEY)\n",
    "\n",
    "    #azure_ad_token_provider=token_provider)\n",
    "\n",
    "def get_embedding(text):\n",
    "    get_embeddings_response = openai_client.embeddings.create(model=AZURE_OPENAI_ADA_DEPLOYMENT, input=text)\n",
    "    return get_embeddings_response.data[0].embedding"
   ]
  },
  {
   "cell_type": "markdown",
   "metadata": {},
   "source": [
    "## Azure AI Search: vector search, step by step"
   ]
  },
  {
   "cell_type": "markdown",
   "metadata": {},
   "source": [
    "### Create a tiny vector index"
   ]
  },
  {
   "cell_type": "code",
   "execution_count": null,
   "metadata": {},
   "outputs": [],
   "source": [
    "\n",
    "\n",
    "AZURE_SEARCH_TINY_INDEX = \"teenyindex\"\n",
    "\n",
    "index = SearchIndex(\n",
    "    name=AZURE_SEARCH_TINY_INDEX, \n",
    "    fields=[\n",
    "        SimpleField(name=\"id\", type=SearchFieldDataType.String, key=True),\n",
    "        SearchField(name=\"embedding\", \n",
    "                    type=SearchFieldDataType.Collection(SearchFieldDataType.Single), \n",
    "                    searchable=True, \n",
    "                    vector_search_dimensions=3,\n",
    "                    vector_search_profile_name=\"embedding_profile\")\n",
    "    ],\n",
    "    vector_search=VectorSearch(\n",
    "        algorithms=[HnswAlgorithmConfiguration( # Hierachical Navigable Small World, IVF\n",
    "                            name=\"hnsw_config\",\n",
    "                            kind=VectorSearchAlgorithmKind.HNSW,\n",
    "                            parameters=HnswParameters(metric=\"cosine\"),\n",
    "                        )],\n",
    "        profiles=[VectorSearchProfile(name=\"embedding_profile\", algorithm_configuration_name=\"hnsw_config\")]\n",
    "    )\n",
    ")\n",
    "\n",
    "index_client = SearchIndexClient(endpoint=AZURE_SEARCH_ENDPOINT, credential=azure_search_credential)\n",
    "index_client.create_index(index)"
   ]
  },
  {
   "cell_type": "markdown",
   "metadata": {},
   "source": [
    "### Insert a few documents with tiny vectors"
   ]
  },
  {
   "cell_type": "code",
   "execution_count": null,
   "metadata": {},
   "outputs": [],
   "source": [
    "search_client = SearchClient(AZURE_SEARCH_ENDPOINT, AZURE_SEARCH_TINY_INDEX, credential=azure_search_credential)\n",
    "search_client.upload_documents(documents=[\n",
    "    {\"id\": \"1\", \"embedding\": [1, 2, 3]},\n",
    "    {\"id\": \"2\", \"embedding\": [1, 1, 3]},\n",
    "    {\"id\": \"3\", \"embedding\": [4, 5, 6]}])"
   ]
  },
  {
   "cell_type": "markdown",
   "metadata": {},
   "source": [
    "### Search using vector similarity"
   ]
  },
  {
   "cell_type": "code",
   "execution_count": null,
   "metadata": {},
   "outputs": [],
   "source": [
    "r = search_client.search(search_text=None, vector_queries=[\n",
    "    VectorizedQuery(vector=[1, 2, 3], k_nearest_neighbors=3, fields=\"embedding\")])\n",
    "for doc in r:\n",
    "    print(f\"id: {doc['id']}, score: {doc['@search.score']}\")"
   ]
  },
  {
   "cell_type": "markdown",
   "metadata": {},
   "source": [
    "### Searching on a larger index"
   ]
  },
  {
   "cell_type": "code",
   "execution_count": null,
   "metadata": {},
   "outputs": [],
   "source": [
    "\n",
    "search_client = SearchClient(AZURE_SEARCH_ENDPOINT, AZURE_SEARCH_FULL_INDEX, credential=azure_search_credential)"
   ]
  },
  {
   "cell_type": "markdown",
   "metadata": {},
   "source": [
    "### Application performs vectorization"
   ]
  },
  {
   "cell_type": "code",
   "execution_count": null,
   "metadata": {},
   "outputs": [],
   "source": [
    "\n",
    "search_query = \"learning about underwater activities\"\n",
    "search_vector = get_embedding(search_query)\n",
    "vector_query = VectorizedQuery(vector=search_vector, k_nearest_neighbors=5, fields=\"vector\")\n",
    "\n",
    "r = search_client.search(  \n",
    "    search_text=None,  \n",
    "    vector_queries= [vector_query],\n",
    "    select=[\"parent_id\", \"chunk_id\", \"chunk\"],\n",
    "    top=5\n",
    ")  \n",
    "for doc in r:\n",
    "    content = doc[\"chunk\"].replace(\"\\n\", \" \")[:150]\n",
    "    print(f\"Score: {doc['@search.score']:.5f}\\tContent:{content}\")"
   ]
  },
  {
   "cell_type": "markdown",
   "metadata": {},
   "source": []
  },
  {
   "cell_type": "markdown",
   "metadata": {},
   "source": [
    "### Searching with Integrated Vectorization"
   ]
  },
  {
   "cell_type": "code",
   "execution_count": null,
   "metadata": {},
   "outputs": [],
   "source": [
    "from azure.search.documents.models import VectorizableTextQuery\n",
    "\n",
    "search_client = SearchClient(AZURE_SEARCH_ENDPOINT, AZURE_SEARCH_FULL_INDEX, credential=azure_search_credential)\n",
    "\n",
    "search_query = \"learning about underwater activities\"\n",
    "vector_query = VectorizableTextQuery(text=search_query, k_nearest_neighbors=3, fields=\"vector\", exhaustive=True)\n",
    "\n",
    "r = search_client.search(  \n",
    "    search_text=None,  \n",
    "    vector_queries= [vector_query],\n",
    "    select=[\"parent_id\", \"chunk_id\", \"chunk\"],\n",
    "    top=5\n",
    ")  \n",
    "\n",
    "for doc in r:\n",
    "    content = doc[\"chunk\"].replace(\"\\n\", \" \")[:150]\n",
    "    print(f\"Score: {doc['@search.score']:.5f}\\tparent_id: {doc['parent_id']}\\tContent:{content}\")"
   ]
  },
  {
   "cell_type": "code",
   "execution_count": null,
   "metadata": {},
   "outputs": [],
   "source": []
  }
 ],
 "metadata": {
  "kernelspec": {
   "display_name": "Python 3",
   "language": "python",
   "name": "python3"
  },
  "language_info": {
   "codemirror_mode": {
    "name": "ipython",
    "version": 3
   },
   "file_extension": ".py",
   "mimetype": "text/x-python",
   "name": "python",
   "nbconvert_exporter": "python",
   "pygments_lexer": "ipython3",
   "version": "3.11.9"
  },
  "orig_nbformat": 4
 },
 "nbformat": 4,
 "nbformat_minor": 2
}
