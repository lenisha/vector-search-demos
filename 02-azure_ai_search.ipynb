{
 "cells": [
  {
   "cell_type": "markdown",
   "metadata": {},
   "source": [
    "### Setup"
   ]
  },
  {
   "cell_type": "code",
   "execution_count": 4,
   "metadata": {},
   "outputs": [
    {
     "name": "stdout",
     "output_type": "stream",
     "text": [
      "AccessToken(token='eyJ0eXAiOiJKV1QiLCJhbGciOiJSUzI1NiIsIng1dCI6IkwxS2ZLRklfam5YYndXYzIyeFp4dzFzVUhIMCIsImtpZCI6IkwxS2ZLRklfam5YYndXYzIyeFp4dzFzVUhIMCJ9.eyJhdWQiOiJodHRwczovL2NvZ25pdGl2ZXNlcnZpY2VzLmF6dXJlLmNvbSIsImlzcyI6Imh0dHBzOi8vc3RzLndpbmRvd3MubmV0LzQ0NjBkNmM3LTNjZGQtNGQ4NS1iZGE0LTg3Yzg1Yzk4YWYwNC8iLCJpYXQiOjE3MTU5MTQwNDQsIm5iZiI6MTcxNTkxNDA0NCwiZXhwIjoxNzE1OTE3OTQ0LCJhaW8iOiJFMk5nWU5qRi9mRnZuZlFYNzRWWGpTdVBYUG4wRlFBPSIsImFwcGlkIjoiNWVlMWUwZmItNWZjMC00MWI1LTk0N2MtZGUxYTRiOWQxNjE3IiwiYXBwaWRhY3IiOiIxIiwiaWRwIjoiaHR0cHM6Ly9zdHMud2luZG93cy5uZXQvNDQ2MGQ2YzctM2NkZC00ZDg1LWJkYTQtODdjODVjOThhZjA0LyIsIm9pZCI6ImI1ODZlN2Y5LTA2Y2EtNDg0OC05YTJlLWFmYjQ5YTQ0NDEzZCIsInJoIjoiMC5BVmtBeDlaZ1JOMDhoVTI5cElmSVhKaXZCSkFpTVgzSUtEeEhvTzJPVTNTYmJXMmRBQUEuIiwic3ViIjoiYjU4NmU3ZjktMDZjYS00ODQ4LTlhMmUtYWZiNDlhNDQ0MTNkIiwidGlkIjoiNDQ2MGQ2YzctM2NkZC00ZDg1LWJkYTQtODdjODVjOThhZjA0IiwidXRpIjoiZ3JoTE1lREljRVNmTHdGamlwYlZBQSIsInZlciI6IjEuMCJ9.dnw7KBr7fkLvQmlXcVsG_r0d_P_cYyltcXq5UYW7I0koytgNcN_7GwfQzo7gERgyMeGLIgRiAiLZKYIPKea-yH5rHngBgYdV9aQYYBV566dp0uJLVWIaWBjMCWE1TrxrtVEF0Vzueg7RXE2u5xCKYfr_GkVga8-mH1ue0x2JqT6BI5DTWDQojXPtxIdbz5J11y94yNOjZ7YszB_U3vDobpYxsPNLjTs4_BeV36BaweuGbNX0f8rsRxIjBIij6DhJ2fo32QWI6yKLthGB4-j3cb4K9lLQ7oFW5mnbnbdZa-pGNeApEENbg_aPxAQlAxAM-1kGUjj_8Txe8-zLDSSKDA', expires_on=1715917943)\n"
     ]
    }
   ],
   "source": [
    "import os\n",
    "\n",
    "import azure.identity\n",
    "import dotenv\n",
    "import openai\n",
    "from azure.core.credentials import AzureKeyCredential\n",
    "from azure.search.documents import SearchClient\n",
    "from azure.search.documents.indexes import SearchIndexClient\n",
    "from azure.search.documents.indexes.models import (\n",
    "    HnswAlgorithmConfiguration,\n",
    "    HnswParameters,\n",
    "    SearchField,\n",
    "    SearchFieldDataType,\n",
    "    SearchIndex,\n",
    "    SimpleField,\n",
    "    VectorSearch,\n",
    "    VectorSearchAlgorithmKind,\n",
    "    VectorSearchProfile,\n",
    ")\n",
    "from azure.search.documents.models import VectorizedQuery\n",
    "\n",
    "dotenv.load_dotenv()\n",
    "\n",
    "# Initialize Azure search variables\n",
    "AZURE_SEARCH_SERVICE = os.getenv(\"AZURE_SEARCH_SERVICE\")\n",
    "AZURE_SEARCH_ENDPOINT = f\"https://{AZURE_SEARCH_SERVICE}.search.windows.net\"\n",
    "AZURE_SEARCH_SERVICE_KEY = os.getenv(\"AZURE_SEARCH_SERVICE_KEY\")\n",
    "\n",
    "\n",
    "# Set up OpenAI client based on environment variables\n",
    "dotenv.load_dotenv()\n",
    "AZURE_OPENAI_SERVICE = os.getenv(\"AZURE_OPENAI_SERVICE\")\n",
    "AZURE_OPENAI_ADA_DEPLOYMENT = os.getenv(\"AZURE_OPENAI_ADA_DEPLOYMENT\")\n",
    "AZURE_OPENAI_SERVICE_KEY = os.getenv(\"AZURE_OPENAI_SERVICE_KEY\")\n",
    "\n",
    "azure_credential = azure.identity.DefaultAzureCredential()\n",
    "azure_search_credential = AzureKeyCredential(AZURE_SEARCH_SERVICE_KEY)\n",
    "\n",
    "token_provider = azure.identity.get_bearer_token_provider(azure_credential, \"https://cognitiveservices.azure.com/.default\")\n",
    "print(azure_credential.get_token(\"https://cognitiveservices.azure.com/.default\"))\n",
    "\n",
    "openai_client = openai.AzureOpenAI(\n",
    "    api_version=\"2023-07-01-preview\",\n",
    "    azure_endpoint=f\"https://{AZURE_OPENAI_SERVICE}.openai.azure.com\",\n",
    "    api_key=AZURE_OPENAI_SERVICE_KEY)\n",
    "    #azure_ad_token_provider=token_provider)\n",
    "\n",
    "def get_embedding(text):\n",
    "    get_embeddings_response = openai_client.embeddings.create(model=AZURE_OPENAI_ADA_DEPLOYMENT, input=text)\n",
    "    return get_embeddings_response.data[0].embedding"
   ]
  },
  {
   "cell_type": "markdown",
   "metadata": {},
   "source": [
    "## Azure AI Search: vector search, step by step"
   ]
  },
  {
   "cell_type": "markdown",
   "metadata": {},
   "source": [
    "### Create a tiny vector index"
   ]
  },
  {
   "cell_type": "code",
   "execution_count": 5,
   "metadata": {},
   "outputs": [
    {
     "ename": "HttpResponseError",
     "evalue": "(ResourceNameAlreadyInUse) Cannot create index 'teenyindex' because it already exists.\nCode: ResourceNameAlreadyInUse\nMessage: Cannot create index 'teenyindex' because it already exists.\nException Details:\t(CannotCreateExistingIndex) Cannot create index 'teenyindex' because it already exists.\n\tCode: CannotCreateExistingIndex\n\tMessage: Cannot create index 'teenyindex' because it already exists.",
     "output_type": "error",
     "traceback": [
      "\u001b[0;31m---------------------------------------------------------------------------\u001b[0m",
      "\u001b[0;31mHttpResponseError\u001b[0m                         Traceback (most recent call last)",
      "Cell \u001b[0;32mIn[5], line 24\u001b[0m\n\u001b[1;32m      3\u001b[0m index \u001b[38;5;241m=\u001b[39m SearchIndex(\n\u001b[1;32m      4\u001b[0m     name\u001b[38;5;241m=\u001b[39mAZURE_SEARCH_TINY_INDEX, \n\u001b[1;32m      5\u001b[0m     fields\u001b[38;5;241m=\u001b[39m[\n\u001b[0;32m   (...)\u001b[0m\n\u001b[1;32m     20\u001b[0m     )\n\u001b[1;32m     21\u001b[0m )\n\u001b[1;32m     23\u001b[0m index_client \u001b[38;5;241m=\u001b[39m SearchIndexClient(endpoint\u001b[38;5;241m=\u001b[39mAZURE_SEARCH_ENDPOINT, credential\u001b[38;5;241m=\u001b[39mazure_search_credential)\n\u001b[0;32m---> 24\u001b[0m \u001b[43mindex_client\u001b[49m\u001b[38;5;241;43m.\u001b[39;49m\u001b[43mcreate_index\u001b[49m\u001b[43m(\u001b[49m\u001b[43mindex\u001b[49m\u001b[43m)\u001b[49m\n",
      "File \u001b[0;32m~/.local/lib/python3.11/site-packages/azure/core/tracing/decorator.py:78\u001b[0m, in \u001b[0;36mdistributed_trace.<locals>.decorator.<locals>.wrapper_use_tracer\u001b[0;34m(*args, **kwargs)\u001b[0m\n\u001b[1;32m     76\u001b[0m span_impl_type \u001b[38;5;241m=\u001b[39m settings\u001b[38;5;241m.\u001b[39mtracing_implementation()\n\u001b[1;32m     77\u001b[0m \u001b[38;5;28;01mif\u001b[39;00m span_impl_type \u001b[38;5;129;01mis\u001b[39;00m \u001b[38;5;28;01mNone\u001b[39;00m:\n\u001b[0;32m---> 78\u001b[0m     \u001b[38;5;28;01mreturn\u001b[39;00m \u001b[43mfunc\u001b[49m\u001b[43m(\u001b[49m\u001b[38;5;241;43m*\u001b[39;49m\u001b[43margs\u001b[49m\u001b[43m,\u001b[49m\u001b[43m \u001b[49m\u001b[38;5;241;43m*\u001b[39;49m\u001b[38;5;241;43m*\u001b[39;49m\u001b[43mkwargs\u001b[49m\u001b[43m)\u001b[49m\n\u001b[1;32m     80\u001b[0m \u001b[38;5;66;03m# Merge span is parameter is set, but only if no explicit parent are passed\u001b[39;00m\n\u001b[1;32m     81\u001b[0m \u001b[38;5;28;01mif\u001b[39;00m merge_span \u001b[38;5;129;01mand\u001b[39;00m \u001b[38;5;129;01mnot\u001b[39;00m passed_in_parent:\n",
      "File \u001b[0;32m~/.local/lib/python3.11/site-packages/azure/search/documents/indexes/_search_index_client.py:224\u001b[0m, in \u001b[0;36mSearchIndexClient.create_index\u001b[0;34m(self, index, **kwargs)\u001b[0m\n\u001b[1;32m    222\u001b[0m kwargs[\u001b[38;5;124m\"\u001b[39m\u001b[38;5;124mheaders\u001b[39m\u001b[38;5;124m\"\u001b[39m] \u001b[38;5;241m=\u001b[39m \u001b[38;5;28mself\u001b[39m\u001b[38;5;241m.\u001b[39m_merge_client_headers(kwargs\u001b[38;5;241m.\u001b[39mget(\u001b[38;5;124m\"\u001b[39m\u001b[38;5;124mheaders\u001b[39m\u001b[38;5;124m\"\u001b[39m))\n\u001b[1;32m    223\u001b[0m patched_index \u001b[38;5;241m=\u001b[39m index\u001b[38;5;241m.\u001b[39m_to_generated()  \u001b[38;5;66;03m# pylint:disable=protected-access\u001b[39;00m\n\u001b[0;32m--> 224\u001b[0m result \u001b[38;5;241m=\u001b[39m \u001b[38;5;28;43mself\u001b[39;49m\u001b[38;5;241;43m.\u001b[39;49m\u001b[43m_client\u001b[49m\u001b[38;5;241;43m.\u001b[39;49m\u001b[43mindexes\u001b[49m\u001b[38;5;241;43m.\u001b[39;49m\u001b[43mcreate\u001b[49m\u001b[43m(\u001b[49m\u001b[43mpatched_index\u001b[49m\u001b[43m,\u001b[49m\u001b[43m \u001b[49m\u001b[38;5;241;43m*\u001b[39;49m\u001b[38;5;241;43m*\u001b[39;49m\u001b[43mkwargs\u001b[49m\u001b[43m)\u001b[49m\n\u001b[1;32m    225\u001b[0m \u001b[38;5;28;01mreturn\u001b[39;00m SearchIndex\u001b[38;5;241m.\u001b[39m_from_generated(result)\n",
      "File \u001b[0;32m~/.local/lib/python3.11/site-packages/azure/core/tracing/decorator.py:78\u001b[0m, in \u001b[0;36mdistributed_trace.<locals>.decorator.<locals>.wrapper_use_tracer\u001b[0;34m(*args, **kwargs)\u001b[0m\n\u001b[1;32m     76\u001b[0m span_impl_type \u001b[38;5;241m=\u001b[39m settings\u001b[38;5;241m.\u001b[39mtracing_implementation()\n\u001b[1;32m     77\u001b[0m \u001b[38;5;28;01mif\u001b[39;00m span_impl_type \u001b[38;5;129;01mis\u001b[39;00m \u001b[38;5;28;01mNone\u001b[39;00m:\n\u001b[0;32m---> 78\u001b[0m     \u001b[38;5;28;01mreturn\u001b[39;00m \u001b[43mfunc\u001b[49m\u001b[43m(\u001b[49m\u001b[38;5;241;43m*\u001b[39;49m\u001b[43margs\u001b[49m\u001b[43m,\u001b[49m\u001b[43m \u001b[49m\u001b[38;5;241;43m*\u001b[39;49m\u001b[38;5;241;43m*\u001b[39;49m\u001b[43mkwargs\u001b[49m\u001b[43m)\u001b[49m\n\u001b[1;32m     80\u001b[0m \u001b[38;5;66;03m# Merge span is parameter is set, but only if no explicit parent are passed\u001b[39;00m\n\u001b[1;32m     81\u001b[0m \u001b[38;5;28;01mif\u001b[39;00m merge_span \u001b[38;5;129;01mand\u001b[39;00m \u001b[38;5;129;01mnot\u001b[39;00m passed_in_parent:\n",
      "File \u001b[0;32m~/.local/lib/python3.11/site-packages/azure/search/documents/indexes/_generated/operations/_indexes_operations.py:396\u001b[0m, in \u001b[0;36mIndexesOperations.create\u001b[0;34m(self, index, request_options, **kwargs)\u001b[0m\n\u001b[1;32m    394\u001b[0m     map_error(status_code\u001b[38;5;241m=\u001b[39mresponse\u001b[38;5;241m.\u001b[39mstatus_code, response\u001b[38;5;241m=\u001b[39mresponse, error_map\u001b[38;5;241m=\u001b[39merror_map)\n\u001b[1;32m    395\u001b[0m     error \u001b[38;5;241m=\u001b[39m \u001b[38;5;28mself\u001b[39m\u001b[38;5;241m.\u001b[39m_deserialize\u001b[38;5;241m.\u001b[39mfailsafe_deserialize(_models\u001b[38;5;241m.\u001b[39mErrorResponse, pipeline_response)\n\u001b[0;32m--> 396\u001b[0m     \u001b[38;5;28;01mraise\u001b[39;00m HttpResponseError(response\u001b[38;5;241m=\u001b[39mresponse, model\u001b[38;5;241m=\u001b[39merror)\n\u001b[1;32m    398\u001b[0m deserialized \u001b[38;5;241m=\u001b[39m \u001b[38;5;28mself\u001b[39m\u001b[38;5;241m.\u001b[39m_deserialize(\u001b[38;5;124m\"\u001b[39m\u001b[38;5;124mSearchIndex\u001b[39m\u001b[38;5;124m\"\u001b[39m, pipeline_response)\n\u001b[1;32m    400\u001b[0m \u001b[38;5;28;01mif\u001b[39;00m \u001b[38;5;28mcls\u001b[39m:\n",
      "\u001b[0;31mHttpResponseError\u001b[0m: (ResourceNameAlreadyInUse) Cannot create index 'teenyindex' because it already exists.\nCode: ResourceNameAlreadyInUse\nMessage: Cannot create index 'teenyindex' because it already exists.\nException Details:\t(CannotCreateExistingIndex) Cannot create index 'teenyindex' because it already exists.\n\tCode: CannotCreateExistingIndex\n\tMessage: Cannot create index 'teenyindex' because it already exists."
     ]
    }
   ],
   "source": [
    "\n",
    "\n",
    "AZURE_SEARCH_TINY_INDEX = \"teenyindex\"\n",
    "\n",
    "index = SearchIndex(\n",
    "    name=AZURE_SEARCH_TINY_INDEX, \n",
    "    fields=[\n",
    "        SimpleField(name=\"id\", type=SearchFieldDataType.String, key=True),\n",
    "        SearchField(name=\"embedding\", \n",
    "                    type=SearchFieldDataType.Collection(SearchFieldDataType.Single), \n",
    "                    searchable=True, \n",
    "                    vector_search_dimensions=3,\n",
    "                    vector_search_profile_name=\"embedding_profile\")\n",
    "    ],\n",
    "    vector_search=VectorSearch(\n",
    "        algorithms=[HnswAlgorithmConfiguration( # Hierachical Navigable Small World, IVF\n",
    "                            name=\"hnsw_config\",\n",
    "                            kind=VectorSearchAlgorithmKind.HNSW,\n",
    "                            parameters=HnswParameters(metric=\"cosine\"),\n",
    "                        )],\n",
    "        profiles=[VectorSearchProfile(name=\"embedding_profile\", algorithm_configuration_name=\"hnsw_config\")]\n",
    "    )\n",
    ")\n",
    "\n",
    "index_client = SearchIndexClient(endpoint=AZURE_SEARCH_ENDPOINT, credential=azure_search_credential)\n",
    "index_client.create_index(index)"
   ]
  },
  {
   "cell_type": "markdown",
   "metadata": {},
   "source": [
    "### Insert a few documents with tiny vectors"
   ]
  },
  {
   "cell_type": "code",
   "execution_count": 6,
   "metadata": {},
   "outputs": [
    {
     "data": {
      "text/plain": [
       "[<azure.search.documents._generated.models._models_py3.IndexingResult at 0x73b947168790>,\n",
       " <azure.search.documents._generated.models._models_py3.IndexingResult at 0x73b9471d8190>,\n",
       " <azure.search.documents._generated.models._models_py3.IndexingResult at 0x73b9471db710>]"
      ]
     },
     "execution_count": 6,
     "metadata": {},
     "output_type": "execute_result"
    }
   ],
   "source": [
    "search_client = SearchClient(AZURE_SEARCH_ENDPOINT, AZURE_SEARCH_TINY_INDEX, credential=azure_search_credential)\n",
    "search_client.upload_documents(documents=[\n",
    "    {\"id\": \"1\", \"embedding\": [1, 2, 3]},\n",
    "    {\"id\": \"2\", \"embedding\": [1, 1, 3]},\n",
    "    {\"id\": \"3\", \"embedding\": [4, 5, 6]}])"
   ]
  },
  {
   "cell_type": "markdown",
   "metadata": {},
   "source": [
    "### Search using vector similarity"
   ]
  },
  {
   "cell_type": "code",
   "execution_count": 7,
   "metadata": {},
   "outputs": [
    {
     "name": "stdout",
     "output_type": "stream",
     "text": [
      "id: 2, score: 0.36515692\n",
      "id: 1, score: 0.3618256\n",
      "id: 3, score: 0.34674543\n"
     ]
    }
   ],
   "source": [
    "r = search_client.search(search_text=None, vector_queries=[\n",
    "    VectorizedQuery(vector=[-2, -1, -1], k_nearest_neighbors=3, fields=\"embedding\")])\n",
    "for doc in r:\n",
    "    print(f\"id: {doc['id']}, score: {doc['@search.score']}\")"
   ]
  },
  {
   "cell_type": "markdown",
   "metadata": {},
   "source": [
    "### Searching on a larger index"
   ]
  },
  {
   "cell_type": "code",
   "execution_count": 8,
   "metadata": {},
   "outputs": [],
   "source": [
    "AZURE_SEARCH_FULL_INDEX = \"vector-1715911082937\"\n",
    "search_client = SearchClient(AZURE_SEARCH_ENDPOINT, AZURE_SEARCH_FULL_INDEX, credential=azure_search_credential)"
   ]
  },
  {
   "cell_type": "markdown",
   "metadata": {},
   "source": [
    "### Application performs vectorization"
   ]
  },
  {
   "cell_type": "code",
   "execution_count": 9,
   "metadata": {},
   "outputs": [
    {
     "name": "stdout",
     "output_type": "stream",
     "text": [
      "Score: 0.79683\tContent:Yoga and Pilates classes   • Fitness equipment purchases   • Sports team fees   • Health retreats and spas   • Outdoor adventure activities (such as r\n",
      "Score: 0.78356\tContent:to help employees develop and grow in their   roles.      Employees will receive a written summary of their performance review which will be   discuss\n",
      "Score: 0.78137\tContent:with attending clinical trials. Additionally, any experimental treatments   or services that are not part of the clinical trial are not covered.    Wh\n",
      "Score: 0.78087\tContent:treatment of dental injuries,   such as root canals, crowns, fillings, extractions, and periodontal services. This coverage   also includes dental ane\n",
      "Score: 0.78068\tContent:such as nausea, vomiting, and dizziness. Therefore, it is     important to make sure you are informed about the potential risks associated with any   \n"
     ]
    }
   ],
   "source": [
    "\n",
    "search_query = \"learning about underwater activities\"\n",
    "search_vector = get_embedding(search_query)\n",
    "vector_query = VectorizedQuery(vector=search_vector, k_nearest_neighbors=5, fields=\"vector\")\n",
    "\n",
    "r = search_client.search(  \n",
    "    search_text=None,  \n",
    "    vector_queries= [vector_query],\n",
    "    select=[\"parent_id\", \"chunk_id\", \"chunk\"],\n",
    "    top=5\n",
    ")  \n",
    "for doc in r:\n",
    "    content = doc[\"chunk\"].replace(\"\\n\", \" \")[:150]\n",
    "    print(f\"Score: {doc['@search.score']:.5f}\\tContent:{content}\")"
   ]
  },
  {
   "cell_type": "markdown",
   "metadata": {},
   "source": []
  },
  {
   "cell_type": "markdown",
   "metadata": {},
   "source": [
    "### Searching with Integrated Vectorization"
   ]
  },
  {
   "cell_type": "code",
   "execution_count": 14,
   "metadata": {},
   "outputs": [
    {
     "name": "stdout",
     "output_type": "stream",
     "text": [
      "Score: 0.79683\tparent_id: aHR0cHM6Ly9haTEwMnN0cjM2MTI1MTMzLmJsb2IuY29yZS53aW5kb3dzLm5ldC9kYXRhL1BlcmtzUGx1cy5wZGY1\tContent:Yoga and Pilates classes   • Fitness equipment purchases   • Sports team fees   • Health retreats and spas   • Outdoor adventure activities (such as r\n",
      "Score: 0.78356\tparent_id: aHR0cHM6Ly9haTEwMnN0cjM2MTI1MTMzLmJsb2IuY29yZS53aW5kb3dzLm5ldC9kYXRhL2VtcGxveWVlX2hhbmRib29rLnBkZg2\tContent:to help employees develop and grow in their   roles.      Employees will receive a written summary of their performance review which will be   discuss\n",
      "Score: 0.78137\tparent_id: aHR0cHM6Ly9haTEwMnN0cjM2MTI1MTMzLmJsb2IuY29yZS53aW5kb3dzLm5ldC9kYXRhL05vcnRod2luZF9TdGFuZGFyZF9CZW5lZml0c19EZXRhaWxzLnBkZg2\tContent:with attending clinical trials. Additionally, any experimental treatments   or services that are not part of the clinical trial are not covered.    Wh\n"
     ]
    }
   ],
   "source": [
    "from azure.search.documents.models import VectorizableTextQuery\n",
    "\n",
    "search_client = SearchClient(AZURE_SEARCH_ENDPOINT, AZURE_SEARCH_FULL_INDEX, credential=azure_search_credential)\n",
    "\n",
    "search_query = \"learning about underwater activities\"\n",
    "vector_query = VectorizableTextQuery(text=search_query, k_nearest_neighbors=3, fields=\"vector\", exhaustive=True)\n",
    "\n",
    "r = search_client.search(  \n",
    "    search_text=None,  \n",
    "    vector_queries= [vector_query],\n",
    "    select=[\"parent_id\", \"chunk_id\", \"chunk\"],\n",
    "    top=5\n",
    ")  \n",
    "\n",
    "for doc in r:\n",
    "    content = doc[\"chunk\"].replace(\"\\n\", \" \")[:150]\n",
    "    print(f\"Score: {doc['@search.score']:.5f}\\tparent_id: {doc['parent_id']}\\tContent:{content}\")"
   ]
  },
  {
   "cell_type": "code",
   "execution_count": null,
   "metadata": {},
   "outputs": [],
   "source": []
  }
 ],
 "metadata": {
  "kernelspec": {
   "display_name": "Python 3",
   "language": "python",
   "name": "python3"
  },
  "language_info": {
   "codemirror_mode": {
    "name": "ipython",
    "version": 3
   },
   "file_extension": ".py",
   "mimetype": "text/x-python",
   "name": "python",
   "nbconvert_exporter": "python",
   "pygments_lexer": "ipython3",
   "version": "3.11.9"
  },
  "orig_nbformat": 4
 },
 "nbformat": 4,
 "nbformat_minor": 2
}
